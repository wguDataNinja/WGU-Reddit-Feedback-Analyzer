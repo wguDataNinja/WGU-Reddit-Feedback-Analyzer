{
 "cells": [
  {
   "cell_type": "code",
   "execution_count": 1,
   "id": "f328c839-a2eb-4cbd-b60c-da3fa8f83b27",
   "metadata": {},
   "outputs": [
    {
     "name": "stdout",
     "output_type": "stream",
     "text": [
      "Project root: /Users/buddy/Desktop/WGU-Reddit\n",
      "Input dir: /Users/buddy/Desktop/WGU-Reddit/data\n",
      "Output dir: /Users/buddy/Desktop/WGU-Reddit/outputs\n",
      "Loaded 19001 rows.\n",
      "Index(['post_id', 'title', 'selftext', 'permalink'], dtype='object')\n"
     ]
    }
   ],
   "source": [
    "# Cell 0: Setup and database test\n",
    "\n",
    "import sys\n",
    "import re\n",
    "from pathlib import Path\n",
    "import pandas as pd\n",
    "from IPython.display import display, HTML\n",
    "from vaderSentiment.vaderSentiment import SentimentIntensityAnalyzer\n",
    "\n",
    "# Set project root for Jupyter\n",
    "project_root = Path(\"/Users/buddy/Desktop/WGU-Reddit\")\n",
    "sys.path.insert(0, str(project_root))\n",
    "\n",
    "# Import project modules\n",
    "from utils.paths import DATA_DIR, OUTPUT_DIR, DB_PATH, path\n",
    "from utils.db_connection import get_db_connection, load_posts_dataframe\n",
    "from utils.cleaning_functions import cleaning_vader, cleaning_nltk, cleaning_bertopic\n",
    "from utils.sentiment import calculate_vader_sentiment\n",
    "from utils.filters import apply_filters\n",
    "\n",
    "# Load course list\n",
    "course_list = pd.read_csv(DATA_DIR / \"courses_with_college_v10.csv\")\n",
    "output_dir = OUTPUT_DIR\n",
    "# Load posts from DB\n",
    "df = load_posts_dataframe()\n",
    "\n",
    "# Confirm setup\n",
    "print(f\"Project root: {project_root}\")\n",
    "print(f\"Input dir: {DATA_DIR}\")\n",
    "print(f\"Output dir: {OUTPUT_DIR}\")\n",
    "print(f\"Loaded {len(df)} rows.\")\n",
    "print(df.columns)\n"
   ]
  },
  {
   "cell_type": "code",
   "execution_count": null,
   "id": "94d38df1-d49c-40c4-8e7f-74e238d7f361",
   "metadata": {},
   "outputs": [],
   "source": []
  },
  {
   "cell_type": "code",
   "execution_count": null,
   "id": "6e380dd1-35b0-4081-b612-05891085618d",
   "metadata": {},
   "outputs": [],
   "source": []
  },
  {
   "cell_type": "code",
   "execution_count": null,
   "id": "534e1e38-c542-4d75-b783-906b3065afa1",
   "metadata": {},
   "outputs": [],
   "source": []
  },
  {
   "cell_type": "code",
   "execution_count": null,
   "id": "d63df50a-079f-42e0-a7b1-c7919e040f3a",
   "metadata": {},
   "outputs": [],
   "source": []
  }
 ],
 "metadata": {
  "kernelspec": {
   "display_name": "Python 3 (WGU)",
   "language": "python",
   "name": "wgu-venv"
  },
  "language_info": {
   "codemirror_mode": {
    "name": "ipython",
    "version": 3
   },
   "file_extension": ".py",
   "mimetype": "text/x-python",
   "name": "python",
   "nbconvert_exporter": "python",
   "pygments_lexer": "ipython3",
   "version": "3.12.0"
  }
 },
 "nbformat": 4,
 "nbformat_minor": 5
}
