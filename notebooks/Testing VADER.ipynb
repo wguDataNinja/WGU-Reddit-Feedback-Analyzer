{
 "cells": [
  {
   "cell_type": "code",
   "execution_count": 3,
   "id": "c247cb19-e989-4e41-970a-83d4fd17e2db",
   "metadata": {},
   "outputs": [
    {
     "name": "stdout",
     "output_type": "stream",
     "text": [
      "Project root: /Users/buddy/Desktop/WGU-Reddit\n",
      "Input dir: /Users/buddy/Desktop/WGU-Reddit/data\n",
      "Output dir: /Users/buddy/Desktop/WGU-Reddit/outputs\n",
      "Loaded 19001 rows.\n",
      "Index(['post_id', 'title', 'selftext', 'permalink'], dtype='object')\n"
     ]
    }
   ],
   "source": [
    "# Cell 0: Setup and database test\n",
    "\n",
    "import sys\n",
    "import re\n",
    "from pathlib import Path\n",
    "import pandas as pd\n",
    "from IPython.display import display, HTML\n",
    "\n",
    "# Set project root for Jupyter\n",
    "project_root = Path(\"/Users/buddy/Desktop/WGU-Reddit\")\n",
    "sys.path.insert(0, str(project_root))\n",
    "\n",
    "# Import project modules\n",
    "from utils.paths import DATA_DIR, OUTPUT_DIR, DB_PATH, path\n",
    "from utils.db_connection import get_db_connection, load_posts_dataframe\n",
    "from utils.cleaning_functions import cleaning_vader, cleaning_ngrams\n",
    "from utils.sentiment import calculate_vader_sentiment, analyze_proximity_sentiment\n",
    "from utils.filters import apply_filters\n",
    "\n",
    "# Load course list\n",
    "course_list = pd.read_csv(DATA_DIR / \"courses_with_college_v10.csv\")\n",
    "output_dir = OUTPUT_DIR\n",
    "# Load posts from DB\n",
    "df = load_posts_dataframe()\n",
    "\n",
    "# Confirm setup\n",
    "print(f\"Project root: {project_root}\")\n",
    "print(f\"Input dir: {DATA_DIR}\")\n",
    "print(f\"Output dir: {OUTPUT_DIR}\")\n",
    "print(f\"Loaded {len(df)} rows.\")\n",
    "print(df.columns)\n"
   ]
  },
  {
   "cell_type": "code",
   "execution_count": 4,
   "id": "fab7881c-8172-4b39-97ad-462a5fda0768",
   "metadata": {},
   "outputs": [
    {
     "name": "stdout",
     "output_type": "stream",
     "text": [
      "19001 rows.\n"
     ]
    },
    {
     "data": {
      "text/html": [
       "<div>\n",
       "<style scoped>\n",
       "    .dataframe tbody tr th:only-of-type {\n",
       "        vertical-align: middle;\n",
       "    }\n",
       "\n",
       "    .dataframe tbody tr th {\n",
       "        vertical-align: top;\n",
       "    }\n",
       "\n",
       "    .dataframe thead th {\n",
       "        text-align: right;\n",
       "    }\n",
       "</style>\n",
       "<table border=\"1\" class=\"dataframe\">\n",
       "  <thead>\n",
       "    <tr style=\"text-align: right;\">\n",
       "      <th></th>\n",
       "      <th>post_id</th>\n",
       "      <th>text_clean</th>\n",
       "      <th>text_length</th>\n",
       "    </tr>\n",
       "  </thead>\n",
       "  <tbody>\n",
       "    <tr>\n",
       "      <th>0</th>\n",
       "      <td>1k6jeqd</td>\n",
       "      <td>Examity I’m curious as to how examity works. I...</td>\n",
       "      <td>495</td>\n",
       "    </tr>\n",
       "    <tr>\n",
       "      <th>1</th>\n",
       "      <td>1k6j88n</td>\n",
       "      <td>Any Canadians here pursuing software developme...</td>\n",
       "      <td>572</td>\n",
       "    </tr>\n",
       "    <tr>\n",
       "      <th>2</th>\n",
       "      <td>1k6iufu</td>\n",
       "      <td>ANYONE IN D277 I’m half way through Front End ...</td>\n",
       "      <td>228</td>\n",
       "    </tr>\n",
       "    <tr>\n",
       "      <th>3</th>\n",
       "      <td>1k6hw8z</td>\n",
       "      <td>DING! Finally!! It's been a rough 2 years for ...</td>\n",
       "      <td>1742</td>\n",
       "    </tr>\n",
       "    <tr>\n",
       "      <th>4</th>\n",
       "      <td>1k6gjrk</td>\n",
       "      <td>Anyone ever have a capstone returned for revis...</td>\n",
       "      <td>50</td>\n",
       "    </tr>\n",
       "  </tbody>\n",
       "</table>\n",
       "</div>"
      ],
      "text/plain": [
       "   post_id                                         text_clean  text_length\n",
       "0  1k6jeqd  Examity I’m curious as to how examity works. I...          495\n",
       "1  1k6j88n  Any Canadians here pursuing software developme...          572\n",
       "2  1k6iufu  ANYONE IN D277 I’m half way through Front End ...          228\n",
       "3  1k6hw8z  DING! Finally!! It's been a rough 2 years for ...         1742\n",
       "4  1k6gjrk  Anyone ever have a capstone returned for revis...           50"
      ]
     },
     "metadata": {},
     "output_type": "display_data"
    }
   ],
   "source": [
    "# Cell: Run VADER cleaning (no NLTK)\n",
    "\n",
    "from utils.cleaning_functions import cleaning_vader\n",
    "\n",
    "df_vader = cleaning_vader(df)\n",
    "print(f\"{len(df)} rows.\")\n",
    "\n",
    "display(df_vader[['post_id','text_clean', 'text_length']].head(5))"
   ]
  },
  {
   "cell_type": "code",
   "execution_count": 5,
   "id": "fa4b10f2-aa2f-4e56-8e56-5b98ca231f9f",
   "metadata": {},
   "outputs": [
    {
     "name": "stdout",
     "output_type": "stream",
     "text": [
      "[filter_by_length] 16602 posts kept (length 10-1000)\n",
      "[filter_by_course_codes] 4294 posts matched 1 course codes\n"
     ]
    }
   ],
   "source": [
    "from utils.filters import apply_filters\n",
    "\n",
    "# Setup filter configuration\n",
    "filters_config = {\n",
    "    'length': {\n",
    "        'enabled': True,\n",
    "        'params': {'min_length': 10, 'max_length': 1000}\n",
    "    },\n",
    "    'course_codes': {\n",
    "        'enabled': True,\n",
    "        'params': {\n",
    "            'course_codes': course_list[\"CourseCode\"].dropna().astype(str).tolist(),\n",
    "            'exact_match_count': 1\n",
    "        }\n",
    "    },\n",
    "    'questions': {'enabled': False},\n",
    "    'sentiment': {'enabled': False},\n",
    "}\n",
    "\n",
    "# Apply filters\n",
    "df_filtered = apply_filters(df_vader, filters_config)\n",
    "\n"
   ]
  },
  {
   "cell_type": "code",
   "execution_count": 6,
   "id": "62f09467-71d9-4545-925e-5aa15f8b0917",
   "metadata": {
    "scrolled": true
   },
   "outputs": [
    {
     "name": "stdout",
     "output_type": "stream",
     "text": [
      "[calculate_vader_sentiment] VADER sentiment scored for 4294 posts.\n",
      "Loaded 4294 rows.\n",
      "Index(['post_id', 'title', 'selftext', 'permalink', 'text_clean',\n",
      "       'text_length', 'matched_course_codes', 'VADER_Compound'],\n",
      "      dtype='object')\n",
      "df_filtered_vader: Index(['post_id', 'title', 'selftext', 'permalink', 'text_clean',\n",
      "       'text_length', 'matched_course_codes', 'VADER_Compound'],\n",
      "      dtype='object')\n",
      "[render_table]  Showing 1 of 1 total posts\n"
     ]
    },
    {
     "data": {
      "text/html": [
       "\n",
       "        \n",
       "    <style>\n",
       "        table { table-layout: auto; width: 100%; }\n",
       "        td:nth-child(3) { min-width: 300px; max-width: 600px; }\n",
       "        td:nth-child(4), td:nth-child(5), td:nth-child(6) { white-space: nowrap; width: 1%; }\n",
       "    </style>\n",
       "    \n",
       "        <h4>Top Sentiment (Filtered)</h4>\n",
       "        <div style=\"max-height:500px; overflow:auto; border:1px solid #ccc; padding:10px; font-family:monospace; font-size:12px\">\n",
       "        <table border=\"1\" class=\"dataframe\">\n",
       "  <thead>\n",
       "    <tr style=\"text-align: right;\">\n",
       "      <th>post_id</th>\n",
       "      <th>title</th>\n",
       "      <th>selftext</th>\n",
       "      <th>text_length</th>\n",
       "      <th>matched_course_codes</th>\n",
       "      <th>VADER_Compound</th>\n",
       "      <th>permalink</th>\n",
       "    </tr>\n",
       "  </thead>\n",
       "  <tbody>\n",
       "    <tr>\n",
       "      <td>1k6iufu</td>\n",
       "      <td>ANYONE IN D277</td>\n",
       "      <td>I’m half way through Front End Web Development (D277) and i’ve reached an impasse…JavaScript. Looking for anyone and everyone who can possibly understand JavaScript loops, functions, as arrays. \\n\\nMuch appreciated (:...</td>\n",
       "      <td>228</td>\n",
       "      <td>[D277]</td>\n",
       "      <td>0.7845</td>\n",
       "      <td><a href=\"https://www.reddit.com/r/WGU/comments/1k6iufu/anyone_in_d277/\" target=\"_blank\">link</a></td>\n",
       "    </tr>\n",
       "  </tbody>\n",
       "</table>\n",
       "        </div>\n",
       "    "
      ],
      "text/plain": [
       "<IPython.core.display.HTML object>"
      ]
     },
     "metadata": {},
     "output_type": "display_data"
    },
    {
     "name": "stdout",
     "output_type": "stream",
     "text": [
      "[render_table]  Showing 1 of 1 total posts\n"
     ]
    },
    {
     "data": {
      "text/html": [
       "\n",
       "        \n",
       "    <style>\n",
       "        table { table-layout: auto; width: 100%; }\n",
       "        td:nth-child(3) { min-width: 300px; max-width: 600px; }\n",
       "        td:nth-child(4), td:nth-child(5), td:nth-child(6) { white-space: nowrap; width: 1%; }\n",
       "    </style>\n",
       "    \n",
       "        <h4>Bottom Sentiment (Filtered)</h4>\n",
       "        <div style=\"max-height:500px; overflow:auto; border:1px solid #ccc; padding:10px; font-family:monospace; font-size:12px\">\n",
       "        <table border=\"1\" class=\"dataframe\">\n",
       "  <thead>\n",
       "    <tr style=\"text-align: right;\">\n",
       "      <th>post_id</th>\n",
       "      <th>title</th>\n",
       "      <th>selftext</th>\n",
       "      <th>text_length</th>\n",
       "      <th>matched_course_codes</th>\n",
       "      <th>VADER_Compound</th>\n",
       "      <th>permalink</th>\n",
       "    </tr>\n",
       "  </thead>\n",
       "  <tbody>\n",
       "    <tr>\n",
       "      <td>1k6iufu</td>\n",
       "      <td>ANYONE IN D277</td>\n",
       "      <td>I’m half way through Front End Web Development (D277) and i’ve reached an impasse…JavaScript. Looking for anyone and everyone who can possibly understand JavaScript loops, functions, as arrays. \\n\\nMuch appreciated (:...</td>\n",
       "      <td>228</td>\n",
       "      <td>[D277]</td>\n",
       "      <td>0.7845</td>\n",
       "      <td><a href=\"https://www.reddit.com/r/WGU/comments/1k6iufu/anyone_in_d277/\" target=\"_blank\">link</a></td>\n",
       "    </tr>\n",
       "  </tbody>\n",
       "</table>\n",
       "        </div>\n",
       "    "
      ],
      "text/plain": [
       "<IPython.core.display.HTML object>"
      ]
     },
     "metadata": {},
     "output_type": "display_data"
    }
   ],
   "source": [
    "# Cell: Run VADER sentiment on filtered posts\n",
    "\n",
    "df_filtered_vader = calculate_vader_sentiment(df_filtered)\n",
    "print(f\"Loaded {len(df_filtered_vader)} rows.\")\n",
    "print(df_filtered_vader.columns)\n",
    "# Preview top/bottom sentiment from filtered set\n",
    "from utils.render import render_table\n",
    "print(\"df_filtered_vader:\", df_filtered_vader.columns)\n",
    "render_table(df_filtered_vader.head(1).sort_values(by='VADER_Compound', ascending=False), title=\"Top Sentiment (Filtered)\")\n",
    "render_table(df_filtered_vader.head(1).sort_values(by='VADER_Compound'), title=\"Bottom Sentiment (Filtered)\")"
   ]
  },
  {
   "cell_type": "code",
   "execution_count": 7,
   "id": "bba18ea9-8447-4c6e-b954-1e19b57dd0d4",
   "metadata": {},
   "outputs": [
    {
     "name": "stdout",
     "output_type": "stream",
     "text": [
      "df_filtered_vader columns: ['post_id', 'title', 'selftext', 'permalink', 'text_clean', 'text_length', 'matched_course_codes', 'VADER_Compound']\n",
      "df_filtered_vader number of posts: 4294\n"
     ]
    }
   ],
   "source": [
    "print(\"df_filtered_vader columns:\", df_filtered_vader.columns.tolist())\n",
    "print(\"df_filtered_vader number of posts:\", len(df_filtered_vader))"
   ]
  },
  {
   "cell_type": "code",
   "execution_count": 8,
   "id": "3404c924-c99d-40d5-b315-c97d6d7288e1",
   "metadata": {},
   "outputs": [
    {
     "name": "stdout",
     "output_type": "stream",
     "text": [
      "df_neg_vader columns: ['post_id', 'title', 'selftext', 'permalink', 'text_clean', 'text_length', 'matched_course_codes', 'VADER_Compound']\n",
      "df_neg_vader number of posts: 405\n"
     ]
    }
   ],
   "source": [
    "# Filter for strongly negative posts (compound ≤ -0.6)\n",
    "df_neg_vader = df_filtered_vader[df_filtered_vader['VADER_Compound'] <= -0.6]\n",
    "print(\"df_neg_vader columns:\", df_neg_vader.columns.tolist())\n",
    "print(\"df_neg_vader number of posts:\", len(df_neg_vader))"
   ]
  },
  {
   "cell_type": "code",
   "execution_count": 9,
   "id": "98d1f9f5-8bfe-4e80-963d-c8c365e166c9",
   "metadata": {
    "scrolled": true
   },
   "outputs": [
    {
     "name": "stdout",
     "output_type": "stream",
     "text": [
      "[vader_sentiment_spotlight] Analyzing sentiment for 405 posts...\n",
      "[generate_sentiment_spotlight] Displaying 10 posts with negative sentiment words highlighted\n"
     ]
    },
    {
     "data": {
      "text/html": [
       "\n",
       "    <style>\n",
       "        .sentiment-spotlight-table {\n",
       "            table-layout: fixed;\n",
       "            width: 100%;\n",
       "            border-collapse: collapse;\n",
       "            font-family: Arial, sans-serif;\n",
       "            font-size: 13px;\n",
       "        }\n",
       "        .sentiment-spotlight-table td {\n",
       "            word-wrap: break-word;\n",
       "            border: 1px solid #ddd;\n",
       "        }\n",
       "        .highlight-negative {\n",
       "            background-color: #ffcccc;\n",
       "            color: #cc0000;\n",
       "            font-weight: bold;\n",
       "            padding: 1px 2px;\n",
       "            border-radius: 2px;\n",
       "        }\n",
       "    </style>\n",
       "\n",
       "    <h4>Sentiment Spotlight</h4>\n",
       "    <p>Showing 10 posts with words highlighted in <span class=\"highlight-negative\">red</span> for sentiment &lt; -0.3</p>\n",
       "\n",
       "    <div style=\"max-height: 600px; overflow-y: auto; border: 1px solid #ccc;\">\n",
       "        <table class=\"sentiment-spotlight-table\">\n",
       "            <thead>\n",
       "                <tr style=\"background-color: #f5f5f5;\">\n",
       "                    <th style=\"padding: 8px; text-align: left; width: 120px;\">Post ID</th>\n",
       "                    <th style=\"padding: 8px; text-align: left;\">Content</th>\n",
       "                </tr>\n",
       "            </thead>\n",
       "            <tbody>\n",
       "                \n",
       "        <tr>\n",
       "            <td style=\"vertical-align: top; padding: 8px; font-weight: bold; min-width: 80px;\">\n",
       "                1k66sct<br>\n",
       "                <small style=\"color: #666;\">(4 negative words)</small>\n",
       "            </td>\n",
       "            <td style=\"vertical-align: top; padding: 8px; border-bottom: 1px solid #eee;\">\n",
       "                <strong>Title:</strong><br>\n",
       "                <div style=\"margin: 4px 0; line-height: 1.4;\">Can’t seem to pass C955</div>\n",
       "                <br>\n",
       "                <strong>Content:</strong><br>\n",
       "                <div style=\"margin: 4px 0; line-height: 1.4; max-height: 200px; overflow-y: auto;\">\n",
       "                    To say that I’m beyond <span style=\"background-color: #ffcccc; color: #cc0000; font-weight: bold;\">depressed</span> and <span style=\"background-color: #ffcccc; color: #cc0000; font-weight: bold;\">disappointed</span> would be an understatement. I’ve taken the OA for this course twice and have <span style=\"background-color: #ffcccc; color: #cc0000; font-weight: bold;\">failed</span> both times. I don’t understand what I’m doing. I’ve watched the cohorts, I’ve done the study plans, yet I’ve <span style=\"background-color: #ffcccc; color: #cc0000; font-weight: bold;\">failed</span> twice. Guess I just need some encouraging words, tips, or advice 😔\n",
       "                </div>\n",
       "            </td>\n",
       "        </tr>\n",
       "        \n",
       "        <tr>\n",
       "            <td style=\"vertical-align: top; padding: 8px; font-weight: bold; min-width: 80px;\">\n",
       "                1k4wr2u<br>\n",
       "                <small style=\"color: #666;\">(8 negative words)</small>\n",
       "            </td>\n",
       "            <td style=\"vertical-align: top; padding: 8px; border-bottom: 1px solid #eee;\">\n",
       "                <strong>Title:</strong><br>\n",
       "                <div style=\"margin: 4px 0; line-height: 1.4;\">D334 - Intro to Cryptography - Is there an electronic whiteboard?</div>\n",
       "                <br>\n",
       "                <strong>Content:</strong><br>\n",
       "                <div style=\"margin: 4px 0; line-height: 1.4; max-height: 200px; overflow-y: auto;\">\n",
       "                    I am cramming for D334, and there is this <span style=\"background-color: #ffcccc; color: #cc0000; font-weight: bold;\">cheat</span> sheet that you are supposed to memorize and <span style=\"background-color: #ffcccc; color: #cc0000; font-weight: bold;\">dump</span> to a whiteboard before you start... I don't like the actual whiteboard, but I do like <span style=\"background-color: #ffcccc; color: #cc0000; font-weight: bold;\">dumping</span> everything to the whiteboard on the right edge, along with the calculator, you know, like in the PA... So can anyone confirm that the D334 OA has the whiteboard on the right side of the screen that I can use to make my info <span style=\"background-color: #ffcccc; color: #cc0000; font-weight: bold;\">dump</span> at the beginning of the test and use it for reference during the test? I am practicing at work, <span style=\"background-color: #ffcccc; color: #cc0000; font-weight: bold;\">dumping</span> it all into notepad and checking for <span style=\"background-color: #ffcccc; color: #cc0000; font-weight: bold;\">errors.</span> I have 5 classes left and 3 months to go, so I have plenty of time, not trying to rush it. Working on memorizing and <span style=\"background-color: #ffcccc; color: #cc0000; font-weight: bold;\">dumping</span> this <span style=\"background-color: #ffcccc; color: #cc0000; font-weight: bold;\">cheat</span> sheet I found in some other posts. But like I said, can anyone who has taken the OA recently confirm that the whiteboard is available? It is during the PA. Thanks!\n",
       "                </div>\n",
       "            </td>\n",
       "        </tr>\n",
       "        \n",
       "        <tr>\n",
       "            <td style=\"vertical-align: top; padding: 8px; font-weight: bold; min-width: 80px;\">\n",
       "                8rvvxh<br>\n",
       "                <small style=\"color: #666;\">(2 negative words)</small>\n",
       "            </td>\n",
       "            <td style=\"vertical-align: top; padding: 8px; border-bottom: 1px solid #eee;\">\n",
       "                <strong>Title:</strong><br>\n",
       "                <div style=\"margin: 4px 0; line-height: 1.4;\">C214 help!</div>\n",
       "                <br>\n",
       "                <strong>Content:</strong><br>\n",
       "                <div style=\"margin: 4px 0; line-height: 1.4; max-height: 200px; overflow-y: auto;\">\n",
       "                    This class is going to be the <span style=\"background-color: #ffcccc; color: #cc0000; font-weight: bold;\">death</span> of me! I have watched all the videos, I have done the study guide and webinars and it just isn't sticking. If I don't pass OA by end of week, my whole plan will be off and that is adding even more <span style=\"background-color: #ffcccc; color: #cc0000; font-weight: bold;\">stress.</span> Any extra tips or tricks?\n",
       "                </div>\n",
       "            </td>\n",
       "        </tr>\n",
       "        \n",
       "        <tr>\n",
       "            <td style=\"vertical-align: top; padding: 8px; font-weight: bold; min-width: 80px;\">\n",
       "                1jxp6nb<br>\n",
       "                <small style=\"color: #666;\">(3 negative words)</small>\n",
       "            </td>\n",
       "            <td style=\"vertical-align: top; padding: 8px; border-bottom: 1px solid #eee;\">\n",
       "                <strong>Title:</strong><br>\n",
       "                <div style=\"margin: 4px 0; line-height: 1.4;\">Isc2 ssp</div>\n",
       "                <br>\n",
       "                <strong>Content:</strong><br>\n",
       "                <div style=\"margin: 4px 0; line-height: 1.4; max-height: 200px; overflow-y: auto;\">\n",
       "                    I am <span style=\"background-color: #ffcccc; color: #cc0000; font-weight: bold;\">miserable</span> and dragging myself through the linkd in learning currently and kind of <span style=\"background-color: #ffcccc; color: #cc0000; font-weight: bold;\">pissed</span> off because I feel like it’s just the sec+ and tons of the other courses I’ve done already. I’m halfway through this degree and I’ve learned about the triad like ten times now. Why do I have to do this? Did this <span style=\"background-color: #ffcccc; color: #cc0000; font-weight: bold;\">piss</span> anyone else off? Even at 1.5x speed I’m having a hard time focusing on the same information for the tenth time.\n",
       "                </div>\n",
       "            </td>\n",
       "        </tr>\n",
       "        \n",
       "        <tr>\n",
       "            <td style=\"vertical-align: top; padding: 8px; font-weight: bold; min-width: 80px;\">\n",
       "                1jsod4o<br>\n",
       "                <small style=\"color: #666;\">(3 negative words)</small>\n",
       "            </td>\n",
       "            <td style=\"vertical-align: top; padding: 8px; border-bottom: 1px solid #eee;\">\n",
       "                <strong>Title:</strong><br>\n",
       "                <div style=\"margin: 4px 0; line-height: 1.4;\"><span style=\"background-color: #ffcccc; color: #cc0000; font-weight: bold;\">failed</span> D333 OA for the 3rd time… <span style=\"background-color: #ffcccc; color: #cc0000; font-weight: bold;\">wtf</span></div>\n",
       "                <br>\n",
       "                <strong>Content:</strong><br>\n",
       "                <div style=\"margin: 4px 0; line-height: 1.4; max-height: 200px; overflow-y: auto;\">\n",
       "                    this has been the most <span style=\"background-color: #ffcccc; color: #cc0000; font-weight: bold;\">frustrating</span> class/experience. ive been doing everything to pass this class and get it over with at this point and still keep getting the same score.\n",
       "                </div>\n",
       "            </td>\n",
       "        </tr>\n",
       "        \n",
       "        <tr>\n",
       "            <td style=\"vertical-align: top; padding: 8px; font-weight: bold; min-width: 80px;\">\n",
       "                1k3ev55<br>\n",
       "                <small style=\"color: #666;\">(8 negative words)</small>\n",
       "            </td>\n",
       "            <td style=\"vertical-align: top; padding: 8px; border-bottom: 1px solid #eee;\">\n",
       "                <strong>Title:</strong><br>\n",
       "                <div style=\"margin: 4px 0; line-height: 1.4;\">D315 <span style=\"background-color: #ffcccc; color: #cc0000; font-weight: bold;\">failed</span> OA</div>\n",
       "                <br>\n",
       "                <strong>Content:</strong><br>\n",
       "                <div style=\"margin: 4px 0; line-height: 1.4; max-height: 200px; overflow-y: auto;\">\n",
       "                    I just took the oa and honestly I was <span style=\"background-color: #ffcccc; color: #cc0000; font-weight: bold;\">shocked</span> because I took practice quizzes, studied my <span style=\"background-color: #ffcccc; color: #cc0000; font-weight: bold;\">mistakes,</span> took other ones, repeat. After every time I found my <span style=\"background-color: #ffcccc; color: #cc0000; font-weight: bold;\">weak</span> spots, I focused on them. I did the same with tests and generated additional Qs using AI just to get a broader sense of it all, and I scored 94 on my last attempt of practice AND did the PA with all exemplary. That being said, the OA was on material I obviously <span style=\"background-color: #ffcccc; color: #cc0000; font-weight: bold;\">neglected</span> since I didn’t see it on any practice, so I kind of <span style=\"background-color: #ffcccc; color: #cc0000; font-weight: bold;\">screwed</span> myself. I felt like a lot of them were trick questions so immediately I knew I was going to be borderline if I did pass. I’ve reached out to the instructor since Idk what happens when you <span style=\"background-color: #ffcccc; color: #cc0000; font-weight: bold;\">fail</span> an OA. Anyone have any advice or suggestions on studying or additional material. I literally used all the quizlet I could find on Reddit posts since I began the course just to keep it fresh. Pretty <span style=\"background-color: #ffcccc; color: #cc0000; font-weight: bold;\">upset</span> at the outcome of it all 😭I welcome any help of any kind.\n",
       "                </div>\n",
       "            </td>\n",
       "        </tr>\n",
       "        \n",
       "        <tr>\n",
       "            <td style=\"vertical-align: top; padding: 8px; font-weight: bold; min-width: 80px;\">\n",
       "                1jkl3jc<br>\n",
       "                <small style=\"color: #666;\">(1 negative words)</small>\n",
       "            </td>\n",
       "            <td style=\"vertical-align: top; padding: 8px; border-bottom: 1px solid #eee;\">\n",
       "                <strong>Title:</strong><br>\n",
       "                <div style=\"margin: 4px 0; line-height: 1.4;\"><span style=\"background-color: #ffcccc; color: #cc0000; font-weight: bold;\">Failed</span> OA</div>\n",
       "                <br>\n",
       "                <strong>Content:</strong><br>\n",
       "                <div style=\"margin: 4px 0; line-height: 1.4; max-height: 200px; overflow-y: auto;\">\n",
       "                    Just a couple minutes ago I took my OA for D322 and almost passed it 😭😭😭 missed by one section. Any advice do they provide you with a study plan?\n",
       "                </div>\n",
       "            </td>\n",
       "        </tr>\n",
       "        \n",
       "        <tr>\n",
       "            <td style=\"vertical-align: top; padding: 8px; font-weight: bold; min-width: 80px;\">\n",
       "                1jgfkwt<br>\n",
       "                <small style=\"color: #666;\">(3 negative words)</small>\n",
       "            </td>\n",
       "            <td style=\"vertical-align: top; padding: 8px; border-bottom: 1px solid #eee;\">\n",
       "                <strong>Title:</strong><br>\n",
       "                <div style=\"margin: 4px 0; line-height: 1.4;\">Azure Developer Associate - D306</div>\n",
       "                <br>\n",
       "                <strong>Content:</strong><br>\n",
       "                <div style=\"margin: 4px 0; line-height: 1.4; max-height: 200px; overflow-y: auto;\">\n",
       "                    I've read numerous posts about how <span style=\"background-color: #ffcccc; color: #cc0000; font-weight: bold;\">bad</span> this one is and after nearly a month of studying, I can see why. Microsoft's stated prequisites definitely affirm my feeling of not being propery equipped to pass this exam. However, that seems moot, considering WGU is still including it in the Cloud Computing degree. I have been working with the text, the study guide and the anki flashcards. I had stayed away from Udemy for this one, considering all of the <span style=\"background-color: #ffcccc; color: #cc0000; font-weight: bold;\">negative</span> feedback, but Duffy has a Jan/25 update to his AZ-204 course. I started going through it, but I <span style=\"background-color: #ffcccc; color: #cc0000; font-weight: bold;\">fear</span> it may eat up too much time while not helping my cause. What are thoughts on finishing the Duffy Udemy course? This is my last class in my second to last semester and would greatly appreciate any insight here.\n",
       "                </div>\n",
       "            </td>\n",
       "        </tr>\n",
       "        \n",
       "        <tr>\n",
       "            <td style=\"vertical-align: top; padding: 8px; font-weight: bold; min-width: 80px;\">\n",
       "                1j69qvq<br>\n",
       "                <small style=\"color: #666;\">(1 negative words)</small>\n",
       "            </td>\n",
       "            <td style=\"vertical-align: top; padding: 8px; border-bottom: 1px solid #eee;\">\n",
       "                <strong>Title:</strong><br>\n",
       "                <div style=\"margin: 4px 0; line-height: 1.4;\">D370 aka This <span style=\"background-color: #ffcccc; color: #cc0000; font-weight: bold;\">freaking</span> class</div>\n",
       "                <br>\n",
       "                <strong>Content:</strong><br>\n",
       "                <div style=\"margin: 4px 0; line-height: 1.4; max-height: 200px; overflow-y: auto;\">\n",
       "                    Passed. Both tasks took 3 attempts each. Don't be like me, talk to your instructor first to get the templates.\n",
       "                </div>\n",
       "            </td>\n",
       "        </tr>\n",
       "        \n",
       "        <tr>\n",
       "            <td style=\"vertical-align: top; padding: 8px; font-weight: bold; min-width: 80px;\">\n",
       "                1iwghbn<br>\n",
       "                <small style=\"color: #666;\">(1 negative words)</small>\n",
       "            </td>\n",
       "            <td style=\"vertical-align: top; padding: 8px; border-bottom: 1px solid #eee;\">\n",
       "                <strong>Title:</strong><br>\n",
       "                <div style=\"margin: 4px 0; line-height: 1.4;\">D435 HR Technology and People Analytics - have any of you passed it recently?</div>\n",
       "                <br>\n",
       "                <strong>Content:</strong><br>\n",
       "                <div style=\"margin: 4px 0; line-height: 1.4; max-height: 200px; overflow-y: auto;\">\n",
       "                    I <span style=\"background-color: #ffcccc; color: #cc0000; font-weight: bold;\">failed</span> this OA in December and chatted with a few of you over the past few months. Have any of you finished your study plan and passed the OA retake? I have not returned to the course yet (I started working on other courses) but wanted to see how the rest of you all are doing. We've got this! 🤞🏾 (This is my least favorite course...)\n",
       "                </div>\n",
       "            </td>\n",
       "        </tr>\n",
       "        \n",
       "            </tbody>\n",
       "        </table>\n",
       "    </div>\n",
       "    "
      ],
      "text/plain": [
       "<IPython.core.display.HTML object>"
      ]
     },
     "metadata": {},
     "output_type": "display_data"
    }
   ],
   "source": [
    "df2 = vader_sentiment_spotlight(df_neg_vader)\n",
    "generate_sentiment_spotlight(df2)"
   ]
  },
  {
   "cell_type": "code",
   "execution_count": null,
   "id": "7457f523-0d08-43f1-b8ba-06ff56a402e3",
   "metadata": {},
   "outputs": [],
   "source": []
  },
  {
   "cell_type": "markdown",
   "id": "3f746025-2d11-4472-9b20-33dac1f17e17",
   "metadata": {},
   "source": [
    "## Now we calculate sentiment for EVERY word within the window of the course code mention. Use on a small df!"
   ]
  },
  {
   "cell_type": "code",
   "execution_count": 11,
   "id": "ce1a4720-f020-49a5-b347-41446bdd19fb",
   "metadata": {},
   "outputs": [
    {
     "data": {
      "application/vnd.jupyter.widget-view+json": {
       "model_id": "217d7f59b82c45789233398ae39c43e0",
       "version_major": 2,
       "version_minor": 0
      },
      "text/plain": [
       "  0%|          | 0/4294 [00:00<?, ?it/s]"
      ]
     },
     "metadata": {},
     "output_type": "display_data"
    },
    {
     "name": "stdout",
     "output_type": "stream",
     "text": [
      "df_filtered_vader: Index(['post_id', 'title', 'selftext', 'permalink', 'text_clean',\n",
      "       'text_length', 'matched_course_codes', 'VADER_Compound',\n",
      "       'proximity_sentiment'],\n",
      "      dtype='object')\n"
     ]
    },
    {
     "data": {
      "text/html": [
       "<div>\n",
       "<style scoped>\n",
       "    .dataframe tbody tr th:only-of-type {\n",
       "        vertical-align: middle;\n",
       "    }\n",
       "\n",
       "    .dataframe tbody tr th {\n",
       "        vertical-align: top;\n",
       "    }\n",
       "\n",
       "    .dataframe thead th {\n",
       "        text-align: right;\n",
       "    }\n",
       "</style>\n",
       "<table border=\"1\" class=\"dataframe\">\n",
       "  <thead>\n",
       "    <tr style=\"text-align: right;\">\n",
       "      <th></th>\n",
       "      <th>post_id</th>\n",
       "      <th>matched_course_codes</th>\n",
       "      <th>proximity_sentiment</th>\n",
       "    </tr>\n",
       "  </thead>\n",
       "  <tbody>\n",
       "    <tr>\n",
       "      <th>2</th>\n",
       "      <td>1k6iufu</td>\n",
       "      <td>[D277]</td>\n",
       "      <td>[{'relative_position': -2, 'sentiment': 0.0, '...</td>\n",
       "    </tr>\n",
       "    <tr>\n",
       "      <th>7</th>\n",
       "      <td>1k6efwe</td>\n",
       "      <td>[D196]</td>\n",
       "      <td>[{'relative_position': 1, 'sentiment': 0.0, 'w...</td>\n",
       "    </tr>\n",
       "    <tr>\n",
       "      <th>8</th>\n",
       "      <td>1k6eaph</td>\n",
       "      <td>[C949]</td>\n",
       "      <td>[{'relative_position': 1, 'sentiment': -0.5423...</td>\n",
       "    </tr>\n",
       "  </tbody>\n",
       "</table>\n",
       "</div>"
      ],
      "text/plain": [
       "   post_id matched_course_codes  \\\n",
       "2  1k6iufu               [D277]   \n",
       "7  1k6efwe               [D196]   \n",
       "8  1k6eaph               [C949]   \n",
       "\n",
       "                                 proximity_sentiment  \n",
       "2  [{'relative_position': -2, 'sentiment': 0.0, '...  \n",
       "7  [{'relative_position': 1, 'sentiment': 0.0, 'w...  \n",
       "8  [{'relative_position': 1, 'sentiment': -0.5423...  "
      ]
     },
     "metadata": {},
     "output_type": "display_data"
    }
   ],
   "source": [
    "from tqdm.notebook import tqdm\n",
    "tqdm.pandas()\n",
    "\n",
    "# Apply proximity sentiment to each post\n",
    "df_filtered_vader[\"proximity_sentiment\"] = df_filtered_vader[\"text_clean\"].progress_apply(analyze_proximity_sentiment)\n",
    "\n",
    "# Optional: preview a few results\n",
    "print(\"df_filtered_vader:\", df_filtered_vader.columns)\n",
    "display(df_filtered_vader[[\"post_id\", \"matched_course_codes\", \"proximity_sentiment\"]].head(3))"
   ]
  },
  {
   "cell_type": "code",
   "execution_count": 12,
   "id": "29a815b8-6621-497e-a275-cfafb8a4c0a3",
   "metadata": {},
   "outputs": [
    {
     "name": "stdout",
     "output_type": "stream",
     "text": [
      "✅ Columns in df_filtered_vader:\n",
      "['post_id', 'title', 'selftext', 'permalink', 'text_clean', 'text_length', 'matched_course_codes', 'VADER_Compound', 'proximity_sentiment']\n",
      "\n",
      "🔢 Number of posts: 4294\n",
      "\n",
      "🧪 Sample post with proximity_sentiment:\n",
      "Post ID: 1k6iufu\n",
      "Matched Course Codes: ['D277']\n",
      "VADER Compound: 0.7845\n",
      "Text Clean (truncated): ANYONE IN D277 I’m half way through Front End Web Development (D277) and i’ve reached an impasse…JavaScript. Looking for anyone and everyone who can possibly understand JavaScript loops, functions, as arrays. Much appreciated (:...\n",
      "\n",
      "📍 Proximity sentiment entries (up to 10 shown):\n",
      "{'relative_position': -2, 'sentiment': 0.0, 'word': 'ANYONE'}\n",
      "{'relative_position': -1, 'sentiment': 0.0, 'word': 'IN'}\n",
      "{'relative_position': 1, 'sentiment': 0.0, 'word': 'I’m'}\n",
      "{'relative_position': 2, 'sentiment': 0.0, 'word': 'half'}\n",
      "{'relative_position': 3, 'sentiment': 0.0, 'word': 'way'}\n",
      "{'relative_position': 4, 'sentiment': 0.0, 'word': 'through'}\n",
      "{'relative_position': 5, 'sentiment': 0.0, 'word': 'Front'}\n",
      "{'relative_position': 6, 'sentiment': 0.0, 'word': 'End'}\n",
      "{'relative_position': 7, 'sentiment': 0.0, 'word': 'Web'}\n",
      "{'relative_position': 8, 'sentiment': 0.0, 'word': 'Development'}\n"
     ]
    }
   ],
   "source": [
    "print(\"✅ Columns in df_filtered_vader:\")\n",
    "print(df_filtered_vader.columns.tolist())\n",
    "\n",
    "print(\"\\n🔢 Number of posts:\", len(df_filtered_vader))\n",
    "\n",
    "print(\"\\n🧪 Sample post with proximity_sentiment:\")\n",
    "sample = df_filtered_vader[df_filtered_vader['proximity_sentiment'].apply(lambda x: isinstance(x, list) and len(x) > 0)].head(1)\n",
    "\n",
    "if not sample.empty:\n",
    "    row = sample.iloc[0]\n",
    "    print(f\"Post ID: {row['post_id']}\")\n",
    "    print(f\"Matched Course Codes: {row['matched_course_codes']}\")\n",
    "    print(f\"VADER Compound: {row['VADER_Compound']}\")\n",
    "    print(f\"Text Clean (truncated): {row['text_clean'][:300]}...\\n\")\n",
    "\n",
    "    print(\"📍 Proximity sentiment entries (up to 10 shown):\")\n",
    "    for entry in row['proximity_sentiment'][:10]:\n",
    "        print(entry)\n",
    "else:\n",
    "    print(\"⚠️ No posts with non-empty proximity_sentiment found.\")"
   ]
  },
  {
   "cell_type": "code",
   "execution_count": null,
   "id": "e45a45a0-70db-4ac1-aaa8-b8fe721438a2",
   "metadata": {},
   "outputs": [],
   "source": []
  },
  {
   "cell_type": "code",
   "execution_count": null,
   "id": "7822f322-3441-46f6-8611-fc20458d97a9",
   "metadata": {},
   "outputs": [],
   "source": []
  },
  {
   "cell_type": "code",
   "execution_count": null,
   "id": "7572fe57-1150-44ae-9512-68375bebc32c",
   "metadata": {},
   "outputs": [],
   "source": [
    "sample = df_filtered_vader[df_filtered_vader['proximity_sentiment'].apply(lambda x: isinstance(x, list) and len(x) > 0)].iloc[0]\n",
    "display(render_colored_text(sample))"
   ]
  },
  {
   "cell_type": "code",
   "execution_count": null,
   "id": "d42c1aec-bddd-4407-982b-381c398203b1",
   "metadata": {},
   "outputs": [],
   "source": []
  },
  {
   "cell_type": "code",
   "execution_count": 15,
   "id": "4ef3332a-aa33-4a98-a37a-43d3c2fed00a",
   "metadata": {},
   "outputs": [],
   "source": [
    "# extract_proximity_df.py\n",
    "\n",
    "# Flatten all proximity data into a single DataFrame\n",
    "proximity_data = []\n",
    "for _, row in df_filtered_vader.iterrows():\n",
    "    for entry in row['proximity_sentiment']:\n",
    "        proximity_data.append({\n",
    "            'relative_position': entry['relative_position'],\n",
    "            'sentiment': entry['sentiment']\n",
    "        })\n",
    "\n",
    "proximity_df = pd.DataFrame(proximity_data)"
   ]
  },
  {
   "cell_type": "code",
   "execution_count": 17,
   "id": "7c84a9ae-1ce0-4fd0-98d8-2db95fad0930",
   "metadata": {},
   "outputs": [
    {
     "name": "stdout",
     "output_type": "stream",
     "text": [
      "proximity_df shape: (123084, 2)\n",
      "proximity_df columns: ['relative_position', 'sentiment']\n"
     ]
    },
    {
     "data": {
      "text/html": [
       "<div>\n",
       "<style scoped>\n",
       "    .dataframe tbody tr th:only-of-type {\n",
       "        vertical-align: middle;\n",
       "    }\n",
       "\n",
       "    .dataframe tbody tr th {\n",
       "        vertical-align: top;\n",
       "    }\n",
       "\n",
       "    .dataframe thead th {\n",
       "        text-align: right;\n",
       "    }\n",
       "</style>\n",
       "<table border=\"1\" class=\"dataframe\">\n",
       "  <thead>\n",
       "    <tr style=\"text-align: right;\">\n",
       "      <th></th>\n",
       "      <th>relative_position</th>\n",
       "      <th>sentiment</th>\n",
       "    </tr>\n",
       "  </thead>\n",
       "  <tbody>\n",
       "    <tr>\n",
       "      <th>0</th>\n",
       "      <td>-2</td>\n",
       "      <td>0.0</td>\n",
       "    </tr>\n",
       "  </tbody>\n",
       "</table>\n",
       "</div>"
      ],
      "text/plain": [
       "   relative_position  sentiment\n",
       "0                 -2        0.0"
      ]
     },
     "metadata": {},
     "output_type": "display_data"
    }
   ],
   "source": [
    "# show_flattened_proximity_df.py\n",
    "\n",
    "print(f\"proximity_df shape: {proximity_df.shape}\")\n",
    "print(\"proximity_df columns:\", proximity_df.columns.tolist())\n",
    "display(proximity_df.head(1))"
   ]
  },
  {
   "cell_type": "code",
   "execution_count": 18,
   "id": "21faa0ce-38dc-4fe0-a740-5ed26cbadbb7",
   "metadata": {},
   "outputs": [
    {
     "data": {
      "image/png": "[encoded data removed]",
      "text/plain": [
       "<Figure size 1200x600 with 1 Axes>"
      ]
     },
     "metadata": {},
     "output_type": "display_data"
    }
   ],
   "source": [
    "# sentiment_by_position.py\n",
    "\n",
    "import matplotlib.pyplot as plt\n",
    "import pandas as pd\n",
    "\n",
    "# Only negative sentiment words\n",
    "negatives = proximity_df[proximity_df['sentiment'] < 0]\n",
    "\n",
    "# Group by position, sum sentiment (more negative = larger bar)\n",
    "neg_sums = negatives.groupby('relative_position')['sentiment'].sum()\n",
    "\n",
    "# Plot\n",
    "plt.figure(figsize=(12, 6))\n",
    "neg_sums.plot(kind='bar', color='red')\n",
    "\n",
    "plt.axvline(0, color='blue', linestyle='--', label='Course Code Position')\n",
    "plt.xlabel('Relative Position to Course Code')\n",
    "plt.ylabel('Total Negative Sentiment')\n",
    "plt.title('Negative Word Sentiment by Position Around Course Codes')\n",
    "plt.legend()\n",
    "plt.tight_layout()\n",
    "plt.show()"
   ]
  },
  {
   "cell_type": "markdown",
   "id": "607b64ca-adb3-4864-b699-d84fe0beed7a",
   "metadata": {},
   "source": [
    "### observation: the most negative words used around course codes, in negative posts, are from pos -2 to +10 or +20\n",
    "Plan: find what these words are, using n-grams"
   ]
  },
  {
   "cell_type": "code",
   "execution_count": null,
   "id": "a0cb75e0-579d-485c-988f-327f9724b796",
   "metadata": {},
   "outputs": [],
   "source": []
  },
  {
   "cell_type": "code",
   "execution_count": 19,
   "id": "496b89e6-a112-430c-95a3-18c7042e8f64",
   "metadata": {},
   "outputs": [],
   "source": [
    "# extract_proximity_df and KEEP WORD \n",
    "proximity_data = []\n",
    "for _, row in df_filtered_vader.iterrows():\n",
    "    for entry in row['proximity_sentiment']:\n",
    "        proximity_data.append({\n",
    "            'relative_position': entry['relative_position'],\n",
    "            'sentiment': entry['sentiment'],\n",
    "            'word': entry['word']  # <-- Add this line\n",
    "        })\n",
    "\n",
    "proximity_df = pd.DataFrame(proximity_data)"
   ]
  },
  {
   "cell_type": "markdown",
   "id": "e8296c0d-0184-430a-ace9-c24919a63f17",
   "metadata": {},
   "source": [
    "### See the negative words, from the negative posts, NEAR the course code mention"
   ]
  },
  {
   "cell_type": "code",
   "execution_count": 21,
   "id": "df5207c6-7486-4b54-99aa-62ebfa060faf",
   "metadata": {},
   "outputs": [
    {
     "name": "stdout",
     "output_type": "stream",
     "text": [
      "          word  vader_compound  frequency\n",
      "0       failed         -0.5106        241\n",
      "1           no         -0.2960        144\n",
      "2   struggling         -0.4215        118\n",
      "3         hard         -0.1027        106\n",
      "4        stuck         -0.2500         69\n",
      "5     confused         -0.3182         50\n",
      "6        error         -0.4019         41\n",
      "7      missing         -0.2960         35\n",
      "8      trouble         -0.4019         34\n",
      "9        wrong         -0.4767         33\n",
      "10   difficult         -0.3612         32\n",
      "11        fail         -0.5423         31\n",
      "12     nervous         -0.2732         31\n",
      "13  difficulty         -0.3400         30\n",
      "14      tricks         -0.1280         29\n",
      "15      missed         -0.2960         25\n",
      "16     problem         -0.4019         23\n",
      "17      scared         -0.4404         22\n",
      "18    critical         -0.3182         22\n",
      "19     failing         -0.5106         21\n"
     ]
    }
   ],
   "source": [
    "neg_words_df = proximity_df[proximity_df['sentiment'] < 0].copy()\n",
    "neg_words_df['word'] = neg_words_df['word'].str.lower()\n",
    "\n",
    "summary = (\n",
    "    neg_words_df.groupby('word')\n",
    "    .agg(vader_compound=('sentiment', 'first'), frequency=('word', 'count'))\n",
    "    .sort_values(by='frequency', ascending=False)\n",
    "    .reset_index()\n",
    ")\n",
    "\n",
    "print(summary.head(20))"
   ]
  },
  {
   "cell_type": "markdown",
   "id": "980ba237-79b5-4ddc-9809-6a260265cd20",
   "metadata": {},
   "source": [
    "## observation: I think using the actual low-sentiment words will be more effective than n-grams, as there are almost no false-positives "
   ]
  },
  {
   "cell_type": "code",
   "execution_count": null,
   "id": "2a5feb4c-7972-4f41-b736-fcc751e6d45d",
   "metadata": {},
   "outputs": [],
   "source": []
  },
  {
   "cell_type": "code",
   "execution_count": null,
   "id": "2b264900-8323-4420-9a0c-25cefdcc77a7",
   "metadata": {},
   "outputs": [],
   "source": []
  },
  {
   "cell_type": "code",
   "execution_count": null,
   "id": "4e3ab7fe-b8c3-4d10-8582-da2bcdd766cf",
   "metadata": {},
   "outputs": [],
   "source": []
  }
 ],
 "metadata": {
  "kernelspec": {
   "display_name": "Python 3 (WGU)",
   "language": "python",
   "name": "wgu-venv"
  },
  "language_info": {
   "codemirror_mode": {
    "name": "ipython",
    "version": 3
   },
   "file_extension": ".py",
   "mimetype": "text/x-python",
   "name": "python",
   "nbconvert_exporter": "python",
   "pygments_lexer": "ipython3",
   "version": "3.12.0"
  }
 },
 "nbformat": 4,
 "nbformat_minor": 5
}
