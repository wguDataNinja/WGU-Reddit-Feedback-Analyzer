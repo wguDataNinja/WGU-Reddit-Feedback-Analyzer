{
 "cells": [
  {
   "cell_type": "markdown",
   "id": "15d6dfce",
   "metadata": {},
   "source": [
    "# College Classification (Course-Based)\n",
    "\n",
    "**Goal:** Assign each post to a WGU college based on course mentions, even if no course code is present.\n",
    "\n",
    "**Plan:**\n",
    "- Use regex to detect course codes → map to college\n",
    "- For posts with no code:\n",
    "  - Match course names (exact, then fuzzy)\n",
    "  - Fallback to keyword overlap using tokenized post\n",
    "- Output: `college_guess`, `course_codes`, `confidence_flag`"
   ]
  },
  {
   "cell_type": "markdown",
   "id": "3458e9ca",
   "metadata": {},
   "source": []
  }
 ],
 "metadata": {
  "language_info": {
   "name": "python"
  }
 },
 "nbformat": 4,
 "nbformat_minor": 5
}
