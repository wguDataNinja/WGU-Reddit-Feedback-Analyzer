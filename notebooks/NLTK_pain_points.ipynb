{
 "cells": [
  {
   "cell_type": "markdown",
   "id": "03f41861",
   "metadata": {},
   "source": [
    "# NLTK Pain Point Analysis\n",
    "\n",
    "**Goal:** Surface frustration patterns tied to specific courses using sentiment + course matching.\n",
    "\n",
    "**Plan:**\n",
    "- Filter posts with VADER compound < -0.3\n",
    "- Require course code match\n",
    "- Use `FreqDist` and `ConditionalFreqDist` to extract common pain terms per course\n",
    "- Explore `bigrams()` to detect context-specific phrases like \"failed oa\", \"buggy lab\"\n",
    "- Output: Pain terms per course, with frequency and example post IDs"
   ]
  },
  {
   "cell_type": "markdown",
   "id": "884b99fc",
   "metadata": {},
   "source": []
  }
 ],
 "metadata": {
  "language_info": {
   "name": "python"
  }
 },
 "nbformat": 4,
 "nbformat_minor": 5
}
