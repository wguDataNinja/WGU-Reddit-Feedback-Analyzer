{
 "cells": [
  {
   "cell_type": "code",
   "execution_count": null,
   "id": "595d1c36-12c3-4c7b-96f6-6d5c032f082e",
   "metadata": {},
   "outputs": [],
   "source": []
  },
  {
   "cell_type": "code",
   "execution_count": 1,
   "id": "aa07c33e-1ab4-4795-9530-9ccc7d31d5bd",
   "metadata": {},
   "outputs": [
    {
     "name": "stdout",
     "output_type": "stream",
     "text": [
      "1752209013\n",
      "1752207286\n",
      "1752206266\n",
      "1752205714\n",
      "1752204997\n"
     ]
    }
   ],
   "source": [
    "# check_created_utc.py\n",
    "\n",
    "import sqlite3\n",
    "\n",
    "DB_PATH = \"/Users/buddy/Desktop/WGU-Reddit/db/WGU-Reddit.db\"\n",
    "\n",
    "with sqlite3.connect(DB_PATH) as conn:\n",
    "    cursor = conn.cursor()\n",
    "    cursor.execute(\"SELECT created_utc FROM posts ORDER BY created_utc DESC LIMIT 5;\")\n",
    "    rows = cursor.fetchall()\n",
    "    for row in rows:\n",
    "        print(row[0])"
   ]
  },
  {
   "cell_type": "code",
   "execution_count": null,
   "id": "6d8a5dcb-0114-47cc-8fed-c056a9728686",
   "metadata": {},
   "outputs": [],
   "source": []
  },
  {
   "cell_type": "code",
   "execution_count": null,
   "id": "9de3bc55-a409-4a77-8124-e277b3868404",
   "metadata": {},
   "outputs": [],
   "source": []
  }
 ],
 "metadata": {
  "kernelspec": {
   "display_name": "Python 3 (WGU)",
   "language": "python",
   "name": "wgu-venv"
  },
  "language_info": {
   "codemirror_mode": {
    "name": "ipython",
    "version": 3
   },
   "file_extension": ".py",
   "mimetype": "text/x-python",
   "name": "python",
   "nbconvert_exporter": "python",
   "pygments_lexer": "ipython3",
   "version": "3.12.0"
  }
 },
 "nbformat": 4,
 "nbformat_minor": 5
}
