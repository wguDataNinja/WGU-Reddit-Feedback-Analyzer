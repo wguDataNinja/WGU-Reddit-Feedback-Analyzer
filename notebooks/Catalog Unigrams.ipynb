{
 "cells": [
  {
   "cell_type": "code",
   "execution_count": null,
   "id": "3d6f2e7f-3645-4f24-9b7c-8c1c4e486b47",
   "metadata": {},
   "outputs": [],
   "source": []
  },
  {
   "cell_type": "code",
   "execution_count": 1,
   "id": "c7ca08e3-6c44-442f-a070-13e70efb9cb3",
   "metadata": {},
   "outputs": [],
   "source": [
    "# unigram_extraction.py\n",
    "\n",
    "import sys\n",
    "from pathlib import Path\n",
    "from nltk import FreqDist, word_tokenize\n",
    "from nltk.corpus import stopwords\n",
    "import csv\n",
    "\n"
   ]
  },
  {
   "cell_type": "code",
   "execution_count": 5,
   "id": "e7259ec4-858b-440b-a45e-aab1ab198c38",
   "metadata": {},
   "outputs": [],
   "source": [
    "# Set up paths\n",
    "wgu_catalog = Path(\"/Users/buddy/Desktop/WGU-Reddit/WGU_catalog\")\n",
    "output_dir = Path(\"/Users/buddy/Desktop/WGU-Reddit/outputs\")\n",
    "catalog_sections = {\n",
    "    \"Catalog_Version\": \"2025_06\",\n",
    "    \"Sections\": {\n",
    "        \"Section01\": \"01_about_western_governors_university.txt\",\n",
    "        \"Section02\": \"02_admissions.txt\",\n",
    "        \"Section03\": \"03_state_regulatory_information.txt\",\n",
    "        \"Section04\": \"04_tuition_and_financial_aid.txt\",\n",
    "        \"Section05\": \"05_academic_policies.txt\",\n",
    "        \"Section06\": \"06_standalone_courses_and_certificates.txt\",\n",
    "        \"Section07\": \"07_academic_programs.txt\",\n",
    "        \"Section08\": \"08_school_of_business_programs.txt\",\n",
    "        \"Section09\": \"09_leavitt_school_of_health_programs.txt\",\n",
    "        \"Section10\": \"10_school_of_technology_programs.txt\",\n",
    "        \"Section11\": \"11_school_of_education_programs.txt\",\n",
    "        \"Section12\": \"12_program_outcomes.txt\",\n",
    "        \"Section13\": \"13_course_descriptions.txt\",\n",
    "        \"Section14\": \"14_instructor_directory.txt\",\n",
    "        \"Section15\": \"15_certificate_programs.txt\"\n",
    "    }\n",
    "}\n",
    "\n",
    "# Token processing\n",
    "def get_top_unigrams(input_path: Path, top_k: int = 100):\n",
    "    with open(input_path) as f:\n",
    "        text = f.read().lower()\n",
    "\n",
    "    tokens = word_tokenize(text)\n",
    "    stop_words = set(stopwords.words(\"english\"))\n",
    "    filtered = [t for t in tokens if t.isalpha() and t not in stop_words]\n",
    "    fdist = FreqDist(filtered)\n",
    "    return fdist.most_common(top_k)\n",
    "\n",
    "# Save CSV\n",
    "def save_unigram_csv(unigrams: list, output_path: Path):\n",
    "    with open(output_path, 'w', newline='') as f:\n",
    "        writer = csv.writer(f)\n",
    "        writer.writerow([\"unigram\", \"frequency\"])\n",
    "        writer.writerows(unigrams)\n",
    "\n",
    "# Main loop\n",
    "def process_all_sections():\n",
    "    catalog_version = catalog_sections[\"Catalog_Version\"]\n",
    "    catalog_dir = wgu_catalog / \"sections\" / catalog_version\n",
    "    version_output_dir = output_dir / catalog_version\n",
    "    version_output_dir.mkdir(parents=True, exist_ok=True)\n",
    "\n",
    "    for section_key, filename in catalog_sections[\"Sections\"].items():\n",
    "        input_path = catalog_dir / filename\n",
    "        section_id = filename.split(\"_\")[0]\n",
    "        first_word = filename.split(\"_\")[1]\n",
    "        output_csv = version_output_dir / f\"{section_id}_{first_word}_unigrams.csv\"\n",
    "\n",
    "        print(f\"Processing {filename}...\")\n",
    "        top_unigrams = get_top_unigrams(input_path)\n",
    "        save_unigram_csv(top_unigrams, output_csv)\n",
    "\n"
   ]
  },
  {
   "cell_type": "code",
   "execution_count": 6,
   "id": "d367b171-3bd0-4ab9-bf5c-c1453596f110",
   "metadata": {},
   "outputs": [
    {
     "name": "stdout",
     "output_type": "stream",
     "text": [
      "Processing 01_about_western_governors_university.txt...\n",
      "Processing 02_admissions.txt...\n",
      "Processing 03_state_regulatory_information.txt...\n",
      "Processing 04_tuition_and_financial_aid.txt...\n",
      "Processing 05_academic_policies.txt...\n",
      "Processing 06_standalone_courses_and_certificates.txt...\n",
      "Processing 07_academic_programs.txt...\n",
      "Processing 08_school_of_business_programs.txt...\n",
      "Processing 09_leavitt_school_of_health_programs.txt...\n",
      "Processing 10_school_of_technology_programs.txt...\n",
      "Processing 11_school_of_education_programs.txt...\n",
      "Processing 12_program_outcomes.txt...\n",
      "Processing 13_course_descriptions.txt...\n",
      "Processing 14_instructor_directory.txt...\n",
      "Processing 15_certificate_programs.txt...\n"
     ]
    }
   ],
   "source": [
    "process_all_sections()"
   ]
  },
  {
   "cell_type": "markdown",
   "id": "1186f118-e3b3-47e2-aeb0-1fb83747d1c4",
   "metadata": {},
   "source": [
    "### Combine each section's csv, sum `frequency`"
   ]
  },
  {
   "cell_type": "code",
   "execution_count": 4,
   "id": "4f326694-1f0f-49b3-a58d-da13e3a9760a",
   "metadata": {},
   "outputs": [
    {
     "name": "stdout",
     "output_type": "stream",
     "text": [
      "Combined unigram CSV written to /Users/buddy/Desktop/WGU-Reddit/outputs/catalog_sections_unigrams_combined.csv\n"
     ]
    }
   ],
   "source": [
    "# combine_unigrams.py\n",
    "\n",
    "import csv\n",
    "from pathlib import Path\n",
    "from collections import Counter\n",
    "\n",
    "# Directory with individual CSVs\n",
    "input_dir = Path(\"/Users/buddy/Desktop/WGU-Reddit/outputs/2025_06\")\n",
    "output_file = Path(\"/Users/buddy/Desktop/WGU-Reddit/outputs/catalog_sections_unigrams_combined.csv\")\n",
    "\n",
    "# Accumulate all unigrams\n",
    "combined = Counter()\n",
    "\n",
    "for csv_file in input_dir.glob(\"*_unigrams.csv\"):\n",
    "    with open(csv_file, newline='') as f:\n",
    "        reader = csv.DictReader(f)\n",
    "        for row in reader:\n",
    "            unigram = row[\"unigram\"]\n",
    "            freq = int(row[\"frequency\"])\n",
    "            combined[unigram] += freq\n",
    "\n",
    "# Write combined output\n",
    "with open(output_file, 'w', newline='') as f:\n",
    "    writer = csv.writer(f)\n",
    "    writer.writerow([\"unigram\", \"frequency\"])\n",
    "    for unigram, freq in combined.most_common():\n",
    "        writer.writerow([unigram, freq])\n",
    "\n",
    "print(f\"Combined unigram CSV written to {output_file}\")"
   ]
  },
  {
   "cell_type": "code",
   "execution_count": null,
   "id": "0358365c-b292-4104-aa0a-fb90959e7049",
   "metadata": {},
   "outputs": [],
   "source": []
  }
 ],
 "metadata": {
  "kernelspec": {
   "display_name": "Python 3 (WGU)",
   "language": "python",
   "name": "wgu-venv"
  },
  "language_info": {
   "codemirror_mode": {
    "name": "ipython",
    "version": 3
   },
   "file_extension": ".py",
   "mimetype": "text/x-python",
   "name": "python",
   "nbconvert_exporter": "python",
   "pygments_lexer": "ipython3",
   "version": "3.12.0"
  }
 },
 "nbformat": 4,
 "nbformat_minor": 5
}
