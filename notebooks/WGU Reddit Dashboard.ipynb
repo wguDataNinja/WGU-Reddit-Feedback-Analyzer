{
 "cells": [
  {
   "cell_type": "markdown",
   "id": "4f7b4161",
   "metadata": {},
   "source": [
    "# WGU Reddit Dashboard – Posts View\n",
    "\n",
    "## 'WGU Reddit' is the ecosystem on Reddit where conversations about Western Governors University (WGU) take place across various subreddits.\n",
    "\n",
    "### What is Reddit?\n",
    "Reddit is a social media platform organized into topic-based communities called **subreddits**. Users can:\n",
    "- Create **posts** (with text, links, or media)\n",
    "- Leave **comments** on posts\n",
    "- **Upvote** or **downvote** content to signal quality or agreement\n",
    "\n",
    "### Sorting on Reddit\n",
    "Reddit content can be sorted by:\n",
    "- **Hot** (default): recent posts with high engagement, factoring in score and recency\n",
    "- **Top**: highest-scoring posts overall or within a time range\n",
    "- **New**: most recent posts\n",
    "- **Controversial**: posts with many mixed votes\n",
    "- **Rising**: new posts gaining quick traction\n",
    "\n",
    "The **default sort is \"Hot\"**, which prioritizes posts that are both **popular and recent** — not just by score, but by velocity of engagement.\n",
    "\n",
    "---\n",
    "\n",
    "### What This Project Does\n",
    "This dashboard:\n",
    "- Visualizes Reddit posts from WGU-related subreddits\n",
    "- Allows filtering by academic tags, sentiment, metrics, and NLP classifications\n",
    "- Supports exploration of help-seeking behavior and engagement trends\n",
    "- Connects to an append-only SQLite database updated daily via Reddit API"
   ]
  },
  {
   "cell_type": "code",
   "execution_count": null,
   "id": "7e7de3a3",
   "metadata": {},
   "outputs": [],
   "source": []
  },
  {
   "cell_type": "code",
   "execution_count": null,
   "id": "3c4c2615",
   "metadata": {},
   "outputs": [],
   "source": []
  },
  {
   "cell_type": "code",
   "execution_count": null,
   "id": "74ab718c",
   "metadata": {},
   "outputs": [],
   "source": []
  },
  {
   "cell_type": "code",
   "execution_count": null,
   "id": "8250de06",
   "metadata": {},
   "outputs": [],
   "source": []
  },
  {
   "cell_type": "code",
   "execution_count": null,
   "id": "c956063f",
   "metadata": {},
   "outputs": [],
   "source": []
  },
  {
   "cell_type": "code",
   "execution_count": null,
   "id": "286da827",
   "metadata": {},
   "outputs": [],
   "source": []
  },
  {
   "cell_type": "code",
   "execution_count": null,
   "id": "755b0d60",
   "metadata": {},
   "outputs": [],
   "source": []
  }
 ],
 "metadata": {
  "kernelspec": {
   "display_name": ".venv",
   "language": "python",
   "name": "python3"
  },
  "language_info": {
   "name": "python",
   "version": "3.12.0"
  }
 },
 "nbformat": 4,
 "nbformat_minor": 5
}
