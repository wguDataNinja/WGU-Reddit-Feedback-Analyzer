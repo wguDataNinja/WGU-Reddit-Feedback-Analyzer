{
 "cells": [
  {
   "cell_type": "markdown",
   "id": "526fc5ce",
   "metadata": {},
   "source": [
    "# Post Categorization (Manual-to-Automated)\n",
    "\n",
    "**Goal:** Reproduce GPT-based category labels using lightweight local classification.\n",
    "\n",
    "**Plan:**\n",
    "- Load labeled posts (e.g., D427 category map)\n",
    "- Tokenize and extract bag-of-words features\n",
    "- Train `NaiveBayesClassifier` on labeled subset\n",
    "- Evaluate accuracy; inspect most informative features\n",
    "- Predict categories on new/unlabeled posts"
   ]
  },
  {
   "cell_type": "markdown",
   "id": "858b18c2",
   "metadata": {},
   "source": []
  }
 ],
 "metadata": {
  "language_info": {
   "name": "python"
  }
 },
 "nbformat": 4,
 "nbformat_minor": 5
}
